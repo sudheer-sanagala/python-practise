{
  "nbformat": 4,
  "nbformat_minor": 0,
  "metadata": {
    "colab": {
      "name": "string-basics.ipynb",
      "provenance": [],
      "collapsed_sections": [],
      "authorship_tag": "ABX9TyP32BJk1ynQiWstMyLNXnnh",
      "include_colab_link": true
    },
    "kernelspec": {
      "name": "python3",
      "display_name": "Python 3"
    }
  },
  "cells": [
    {
      "cell_type": "markdown",
      "metadata": {
        "id": "view-in-github",
        "colab_type": "text"
      },
      "source": [
        "<a href=\"https://colab.research.google.com/github/sudheer-sanagala/python-practise/blob/master/string-basics.ipynb\" target=\"_parent\"><img src=\"https://colab.research.google.com/assets/colab-badge.svg\" alt=\"Open In Colab\"/></a>"
      ]
    },
    {
      "cell_type": "markdown",
      "metadata": {
        "id": "eycA86NGtjbX",
        "colab_type": "text"
      },
      "source": [
        "# Strings"
      ]
    },
    {
      "cell_type": "code",
      "metadata": {
        "id": "ORYVppnOtsjS",
        "colab_type": "code",
        "colab": {}
      },
      "source": [
        "print(\"Hello World!\")"
      ],
      "execution_count": 0,
      "outputs": []
    },
    {
      "cell_type": "code",
      "metadata": {
        "id": "CwVuf3C_t_t5",
        "colab_type": "code",
        "colab": {
          "base_uri": "https://localhost:8080/",
          "height": 34
        },
        "outputId": "20a789ff-81a8-4638-c14a-a491ccfe2f92"
      },
      "source": [
        "str = 'This is a string'\n",
        "\n",
        "print(str.upper())"
      ],
      "execution_count": 2,
      "outputs": [
        {
          "output_type": "stream",
          "text": [
            "THIS IS A STRING\n"
          ],
          "name": "stdout"
        }
      ]
    },
    {
      "cell_type": "markdown",
      "metadata": {
        "id": "i6gKrSFkuuYz",
        "colab_type": "text"
      },
      "source": [
        "**slicing a string**\n",
        "\n",
        "---\n",
        "\n",
        "In python string starts from `1` position instead of `0`\n",
        "\n",
        "`variable_name[slice from character position : to position]`"
      ]
    },
    {
      "cell_type": "code",
      "metadata": {
        "id": "uRgiWAk8uxUr",
        "colab_type": "code",
        "colab": {
          "base_uri": "https://localhost:8080/",
          "height": 68
        },
        "outputId": "1e4bd787-feaa-4cad-9363-f57a91252064"
      },
      "source": [
        "str = 'one plus one is two and two plus two is four'\n",
        "print(str[5:12])\n",
        "\n",
        "# start from 5th position till end\n",
        "print(str[5:])\n",
        "\n",
        "# start from 1st postition till 5th\n",
        "print(str[:5])"
      ],
      "execution_count": 4,
      "outputs": [
        {
          "output_type": "stream",
          "text": [
            "lus one\n",
            "lus one is two and two plus two is four\n",
            "one p\n"
          ],
          "name": "stdout"
        }
      ]
    }
  ]
}